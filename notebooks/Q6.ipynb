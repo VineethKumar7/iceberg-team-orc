{
 "cells": [
  {
   "cell_type": "markdown",
   "metadata": {},
   "source": [
    "# TPC-H Query 6"
   ]
  },
  {
   "cell_type": "markdown",
   "metadata": {},
   "source": [
    "## Download Helper"
   ]
  },
  {
   "cell_type": "code",
   "execution_count": 1,
   "metadata": {
    "jupyter": {
     "is_executing": true
    }
   },
   "outputs": [
    {
     "name": "stdout",
     "output_type": "stream",
     "text": [
      "tpch/sf-1/customer.csv already exists.\n",
      "tpch/sf-1/lineitem.csv already exists.\n",
      "tpch/sf-1/nation.csv already exists.\n",
      "tpch/sf-1/orders.csv already exists.\n",
      "tpch/sf-1/part.csv already exists.\n",
      "tpch/sf-1/partsupp.csv already exists.\n",
      "tpch/sf-1/region.csv already exists.\n",
      "tpch/sf-1/supplier.csv already exists.\n"
     ]
    }
   ],
   "source": [
    "import os\n",
    "import boto3\n",
    "import botocore\n",
    "import numpy as np\n",
    "import pandas as pd\n",
    "import duckdb\n",
    "bucket_name = 'alex-datasets'\n",
    "prefix = 'tpch/sf-1/'\n",
    "\n",
    "s3 = boto3.client('s3')\n",
    "\n",
    "def download(bucket_name, key, fn):\n",
    "  try:\n",
    "    s3.download_file(bucket_name, key, fn)\n",
    "    print(f'Downloaded {fn}')\n",
    "  except botocore.exceptions.ClientError as e:\n",
    "    if e.response['Error']['Code'] == '404':\n",
    "      print(f'Object {key} does not exist!')\n",
    "    else:\n",
    "      raise\n",
    "\n",
    "response = s3.list_objects_v2(Bucket=bucket_name, Prefix=prefix)\n",
    "\n",
    "# Create directory if it doesn't exist\n",
    "if not os.path.exists(prefix):\n",
    "  os.makedirs(prefix)\n",
    "\n",
    "# Download the files.\n",
    "for obj in response.get('Contents', []):\n",
    "  key = obj['Key']\n",
    "  filename = os.path.join(prefix, key.split('/')[-1])\n",
    "\n",
    "  if not os.path.exists(filename):\n",
    "    download(bucket_name, key, filename)\n",
    "  else:\n",
    "    print(f'{filename} already exists.')"
   ]
  },
  {
   "cell_type": "markdown",
   "metadata": {},
   "source": [
    "## Query Implementation"
   ]
  },
  {
   "cell_type": "markdown",
   "metadata": {},
   "source": [
    "```sql\n",
    "select\n",
    "  sum(l_extendedprice * l_discount) as revenue\n",
    "from\n",
    "  lineitem\n",
    "where\n",
    "  l_shipdate >= date '1994-01-01'\n",
    "  and l_shipdate < date '1994-01-01' + interval '1' year\n",
    "  and l_discount between 0.06 - 0.01 and 0.06 + 0.01\n",
    "  and l_quantity < 24\n",
    "```"
   ]
  },
  {
   "cell_type": "code",
   "execution_count": 3,
   "metadata": {},
   "outputs": [],
   "source": [
    "# Load tables.\n",
    "import pandas as pd\n",
    "# Read the CSV file.\n",
    "lineitem = pd.read_csv(\"./tpch/sf-1/lineitem.csv\", names=[\"l_orderkey\", \"l_partkey\", \"l_suppkey\", \"l_linenumber\", \n",
    "                                                          \"l_quantity\", \"l_extendedprice\", \"l_discount\", \"l_tax\",\n",
    "                                                          \"l_returnflag\", \"l_linestatus\", \"l_shipdate\", \n",
    "                                                          \"l_commitdate\", \"l_receiptdate\", \"l_shipinstruct\", \n",
    "                                                          \"l_shipmode\", \"l_comment\"])"
   ]
  },
  {
   "cell_type": "code",
   "execution_count": 4,
   "metadata": {},
   "outputs": [
    {
     "data": {
      "text/html": [
       "<div>\n",
       "<style scoped>\n",
       "    .dataframe tbody tr th:only-of-type {\n",
       "        vertical-align: middle;\n",
       "    }\n",
       "\n",
       "    .dataframe tbody tr th {\n",
       "        vertical-align: top;\n",
       "    }\n",
       "\n",
       "    .dataframe thead th {\n",
       "        text-align: right;\n",
       "    }\n",
       "</style>\n",
       "<table border=\"1\" class=\"dataframe\">\n",
       "  <thead>\n",
       "    <tr style=\"text-align: right;\">\n",
       "      <th></th>\n",
       "      <th>l_orderkey</th>\n",
       "      <th>l_partkey</th>\n",
       "      <th>l_suppkey</th>\n",
       "      <th>l_linenumber</th>\n",
       "      <th>l_quantity</th>\n",
       "      <th>l_extendedprice</th>\n",
       "      <th>l_discount</th>\n",
       "      <th>l_tax</th>\n",
       "      <th>l_returnflag</th>\n",
       "      <th>l_linestatus</th>\n",
       "      <th>l_shipdate</th>\n",
       "      <th>l_commitdate</th>\n",
       "      <th>l_receiptdate</th>\n",
       "      <th>l_shipinstruct</th>\n",
       "      <th>l_shipmode</th>\n",
       "      <th>l_comment</th>\n",
       "    </tr>\n",
       "  </thead>\n",
       "  <tbody>\n",
       "    <tr>\n",
       "      <th>0</th>\n",
       "      <td>1</td>\n",
       "      <td>155190</td>\n",
       "      <td>7706</td>\n",
       "      <td>1</td>\n",
       "      <td>17</td>\n",
       "      <td>21168.23</td>\n",
       "      <td>0.04</td>\n",
       "      <td>0.02</td>\n",
       "      <td>N</td>\n",
       "      <td>O</td>\n",
       "      <td>1996-03-13</td>\n",
       "      <td>1996-02-12</td>\n",
       "      <td>1996-03-22</td>\n",
       "      <td>DELIVER IN PERSON</td>\n",
       "      <td>TRUCK</td>\n",
       "      <td>egular courts above the</td>\n",
       "    </tr>\n",
       "    <tr>\n",
       "      <th>1</th>\n",
       "      <td>1</td>\n",
       "      <td>67310</td>\n",
       "      <td>7311</td>\n",
       "      <td>2</td>\n",
       "      <td>36</td>\n",
       "      <td>45983.16</td>\n",
       "      <td>0.09</td>\n",
       "      <td>0.06</td>\n",
       "      <td>N</td>\n",
       "      <td>O</td>\n",
       "      <td>1996-04-12</td>\n",
       "      <td>1996-02-28</td>\n",
       "      <td>1996-04-20</td>\n",
       "      <td>TAKE BACK RETURN</td>\n",
       "      <td>MAIL</td>\n",
       "      <td>ly final dependencies: slyly bold</td>\n",
       "    </tr>\n",
       "    <tr>\n",
       "      <th>2</th>\n",
       "      <td>1</td>\n",
       "      <td>63700</td>\n",
       "      <td>3701</td>\n",
       "      <td>3</td>\n",
       "      <td>8</td>\n",
       "      <td>13309.60</td>\n",
       "      <td>0.10</td>\n",
       "      <td>0.02</td>\n",
       "      <td>N</td>\n",
       "      <td>O</td>\n",
       "      <td>1996-01-29</td>\n",
       "      <td>1996-03-05</td>\n",
       "      <td>1996-01-31</td>\n",
       "      <td>TAKE BACK RETURN</td>\n",
       "      <td>REG AIR</td>\n",
       "      <td>riously. regular@ express dep</td>\n",
       "    </tr>\n",
       "    <tr>\n",
       "      <th>3</th>\n",
       "      <td>1</td>\n",
       "      <td>2132</td>\n",
       "      <td>4633</td>\n",
       "      <td>4</td>\n",
       "      <td>28</td>\n",
       "      <td>28955.64</td>\n",
       "      <td>0.09</td>\n",
       "      <td>0.06</td>\n",
       "      <td>N</td>\n",
       "      <td>O</td>\n",
       "      <td>1996-04-21</td>\n",
       "      <td>1996-03-30</td>\n",
       "      <td>1996-05-16</td>\n",
       "      <td>NONE</td>\n",
       "      <td>AIR</td>\n",
       "      <td>lites. fluffily even de</td>\n",
       "    </tr>\n",
       "    <tr>\n",
       "      <th>4</th>\n",
       "      <td>1</td>\n",
       "      <td>24027</td>\n",
       "      <td>1534</td>\n",
       "      <td>5</td>\n",
       "      <td>24</td>\n",
       "      <td>22824.48</td>\n",
       "      <td>0.10</td>\n",
       "      <td>0.04</td>\n",
       "      <td>N</td>\n",
       "      <td>O</td>\n",
       "      <td>1996-03-30</td>\n",
       "      <td>1996-03-14</td>\n",
       "      <td>1996-04-01</td>\n",
       "      <td>NONE</td>\n",
       "      <td>FOB</td>\n",
       "      <td>pending foxes. slyly re</td>\n",
       "    </tr>\n",
       "  </tbody>\n",
       "</table>\n",
       "</div>"
      ],
      "text/plain": [
       "   l_orderkey  l_partkey  l_suppkey  l_linenumber  l_quantity  \\\n",
       "0           1     155190       7706             1          17   \n",
       "1           1      67310       7311             2          36   \n",
       "2           1      63700       3701             3           8   \n",
       "3           1       2132       4633             4          28   \n",
       "4           1      24027       1534             5          24   \n",
       "\n",
       "   l_extendedprice  l_discount  l_tax l_returnflag l_linestatus  l_shipdate  \\\n",
       "0         21168.23        0.04   0.02            N            O  1996-03-13   \n",
       "1         45983.16        0.09   0.06            N            O  1996-04-12   \n",
       "2         13309.60        0.10   0.02            N            O  1996-01-29   \n",
       "3         28955.64        0.09   0.06            N            O  1996-04-21   \n",
       "4         22824.48        0.10   0.04            N            O  1996-03-30   \n",
       "\n",
       "  l_commitdate l_receiptdate     l_shipinstruct l_shipmode  \\\n",
       "0   1996-02-12    1996-03-22  DELIVER IN PERSON      TRUCK   \n",
       "1   1996-02-28    1996-04-20   TAKE BACK RETURN       MAIL   \n",
       "2   1996-03-05    1996-01-31   TAKE BACK RETURN    REG AIR   \n",
       "3   1996-03-30    1996-05-16               NONE        AIR   \n",
       "4   1996-03-14    1996-04-01               NONE        FOB   \n",
       "\n",
       "                            l_comment  \n",
       "0             egular courts above the  \n",
       "1  ly final dependencies: slyly bold   \n",
       "2       riously. regular@ express dep  \n",
       "3             lites. fluffily even de  \n",
       "4             pending foxes. slyly re  "
      ]
     },
     "execution_count": 4,
     "metadata": {},
     "output_type": "execute_result"
    }
   ],
   "source": [
    "lineitem.head()"
   ]
  },
  {
   "cell_type": "code",
   "execution_count": 4,
   "metadata": {},
   "outputs": [
    {
     "name": "stdout",
     "output_type": "stream",
     "text": [
      "6001215\n",
      "time taken 3.333437404999131\n",
      "123141078.22829895\n"
     ]
    }
   ],
   "source": [
    "# Convert columns to datetime format\n",
    "import time\n",
    "\n",
    "date_columns = [\"l_shipdate\", \"l_commitdate\", \"l_receiptdate\"]\n",
    "print(len(lineitem))\n",
    "def tpch_query_6(df):\n",
    "  df[date_columns] = df[date_columns].apply(pd.to_datetime)\n",
    "  date_str1 = '1994-01-01'\n",
    "  date_str2 = '1995-01-01'\n",
    "  date_time1 = pd.to_datetime(date_str1)\n",
    "  date_time2 = pd.to_datetime(date_str2)\n",
    "  df = df[(df[\"l_shipdate\"] < date_time2) & (df[\"l_shipdate\"] >= date_time1)]\n",
    "  df = df[(df[\"l_discount\"] < 0.07 + 0.000001) & (df[\"l_discount\"] > 0.05 - 0.000001) & (df[\"l_quantity\"] < 24)]\n",
    "  df[\"sum_col\"] = df[\"l_extendedprice\"] * df[\"l_discount\"]\n",
    "  return sum(df[\"sum_col\"])\n",
    "\n",
    "st = time.perf_counter()\n",
    "query_result = tpch_query_6(lineitem)\n",
    "et = time.perf_counter()\n",
    "print(\"time taken\", et - st)\n",
    "print(query_result)"
   ]
  },
  {
   "cell_type": "markdown",
   "metadata": {},
   "source": [
    "## Checker"
   ]
  },
  {
   "cell_type": "code",
   "execution_count": 5,
   "metadata": {},
   "outputs": [
    {
     "ename": "NameError",
     "evalue": "name 'query_result' is not defined",
     "output_type": "error",
     "traceback": [
      "\u001b[0;31m---------------------------------------------------------------------------\u001b[0m",
      "\u001b[0;31mNameError\u001b[0m                                 Traceback (most recent call last)",
      "Input \u001b[0;32mIn [5]\u001b[0m, in \u001b[0;36m<cell line: 3>\u001b[0;34m()\u001b[0m\n\u001b[1;32m      1\u001b[0m \u001b[38;5;66;03m# This part checks whether your output is correct.\u001b[39;00m\n\u001b[1;32m      2\u001b[0m \u001b[38;5;28;01mimport\u001b[39;00m \u001b[38;5;21;01mnumpy\u001b[39;00m \u001b[38;5;28;01mas\u001b[39;00m \u001b[38;5;21;01mnp\u001b[39;00m\n\u001b[0;32m----> 3\u001b[0m \u001b[38;5;28;01massert\u001b[39;00m np\u001b[38;5;241m.\u001b[39misclose(\u001b[43mquery_result\u001b[49m, \u001b[38;5;241m123141078.2283\u001b[39m, atol\u001b[38;5;241m=\u001b[39m\u001b[38;5;241m1e-6\u001b[39m)\n",
      "\u001b[0;31mNameError\u001b[0m: name 'query_result' is not defined"
     ]
    }
   ],
   "source": [
    "# This part checks whether your output is correct.\n",
    "import numpy as np\n",
    "assert np.isclose(query_result, 123141078.2283, atol=1e-6)"
   ]
  },
  {
   "cell_type": "markdown",
   "metadata": {},
   "source": [
    "### Create the lineitem table"
   ]
  },
  {
   "cell_type": "code",
   "execution_count": 6,
   "metadata": {},
   "outputs": [
    {
     "data": {
      "application/vnd.jupyter.widget-view+json": {
       "model_id": "11339cb3b1974dcaae0aadef6845863e",
       "version_major": 2,
       "version_minor": 0
      },
      "text/plain": [
       "FloatProgress(value=0.0, layout=Layout(width='auto'), style=ProgressStyle(bar_color='black'))"
      ]
     },
     "metadata": {},
     "output_type": "display_data"
    }
   ],
   "source": [
    "lineitem_table = \"\"\"\n",
    "CREATE TABLE IF NOT EXISTS lineitem (\n",
    "    l_orderkey INTEGER,\n",
    "    l_partkey INTEGER,\n",
    "    l_suppkey INTEGER,\n",
    "    l_linenumber INTEGER,\n",
    "    l_quantity DECIMAL,\n",
    "    l_extendedprice DECIMAL,\n",
    "    l_discount DECIMAL,\n",
    "    l_tax DECIMAL,\n",
    "    l_returnflag CHAR(1),\n",
    "    l_linestatus CHAR(1),\n",
    "    l_shipdate DATE,\n",
    "    l_commitdate DATE,\n",
    "    l_receiptdate DATE,\n",
    "    l_shipinstruct VARCHAR,\n",
    "    l_shipmode VARCHAR,\n",
    "    l_comment VARCHAR\n",
    ") \n",
    "\"\"\"\n",
    "duckdb.query(lineitem_table)\n",
    "insert_query_lineitem = \"\"\"INSERT INTO lineitem SELECT * FROM read_csv(\"tpch/sf-1/lineitem.csv\")\"\"\"\n",
    "duckdb.query(insert_query_lineitem)"
   ]
  },
  {
   "cell_type": "code",
   "execution_count": 6,
   "metadata": {},
   "outputs": [
    {
     "ename": "CatalogException",
     "evalue": "Catalog Error: Table with name lineitem does not exist!\nDid you mean \"pg_index\"?",
     "output_type": "error",
     "traceback": [
      "\u001b[0;31m---------------------------------------------------------------------------\u001b[0m",
      "\u001b[0;31mCatalogException\u001b[0m                          Traceback (most recent call last)",
      "Input \u001b[0;32mIn [6]\u001b[0m, in \u001b[0;36m<cell line: 14>\u001b[0;34m()\u001b[0m\n\u001b[1;32m      2\u001b[0m st_time \u001b[38;5;241m=\u001b[39m time\u001b[38;5;241m.\u001b[39mtime()\n\u001b[1;32m      3\u001b[0m query6 \u001b[38;5;241m=\u001b[39m \u001b[38;5;124m\"\"\"\u001b[39m\n\u001b[1;32m      4\u001b[0m \u001b[38;5;124m        select\u001b[39m\n\u001b[1;32m      5\u001b[0m \u001b[38;5;124m          sum(l_extendedprice * l_discount) as revenue\u001b[39m\n\u001b[0;32m   (...)\u001b[0m\n\u001b[1;32m     12\u001b[0m \u001b[38;5;124m          and l_quantity < 24\u001b[39m\n\u001b[1;32m     13\u001b[0m \u001b[38;5;124m        \u001b[39m\u001b[38;5;124m\"\"\"\u001b[39m\n\u001b[0;32m---> 14\u001b[0m \u001b[43mduckdb\u001b[49m\u001b[38;5;241;43m.\u001b[39;49m\u001b[43mquery\u001b[49m\u001b[43m(\u001b[49m\u001b[43mquery6\u001b[49m\u001b[43m)\u001b[49m\n\u001b[1;32m     15\u001b[0m \u001b[38;5;28mprint\u001b[39m(\u001b[38;5;124mf\u001b[39m\u001b[38;5;124m\"\u001b[39m\u001b[38;5;124mtime taken: \u001b[39m\u001b[38;5;132;01m{\u001b[39;00mtime\u001b[38;5;241m.\u001b[39mtime()\u001b[38;5;250m \u001b[39m\u001b[38;5;241m-\u001b[39m\u001b[38;5;250m \u001b[39mst_time\u001b[38;5;132;01m}\u001b[39;00m\u001b[38;5;124m\"\u001b[39m)\n",
      "\u001b[0;31mCatalogException\u001b[0m: Catalog Error: Table with name lineitem does not exist!\nDid you mean \"pg_index\"?"
     ]
    }
   ],
   "source": [
    "import time\n",
    "st_time = time.time()\n",
    "query6 = \"\"\"\n",
    "        select\n",
    "          sum(l_extendedprice * l_discount) as revenue\n",
    "        from\n",
    "          lineitem\n",
    "        where\n",
    "          l_shipdate >= date '1994-01-01'\n",
    "          and l_shipdate < date '1994-01-01' + interval '1' year\n",
    "          and l_discount between 0.06 - 0.01 and 0.06 + 0.01\n",
    "          and l_quantity < 24\n",
    "        \"\"\"\n",
    "duckdb.query(query6)\n",
    "print(f\"time taken: {time.time() - st_time}\")"
   ]
  },
  {
   "cell_type": "code",
   "execution_count": 12,
   "metadata": {},
   "outputs": [],
   "source": [
    "### Save sorted csv"
   ]
  },
  {
   "cell_type": "code",
   "execution_count": 14,
   "metadata": {},
   "outputs": [
    {
     "data": {
      "application/vnd.jupyter.widget-view+json": {
       "model_id": "bdce1b47b2524d47a6ef21803bc44bf5",
       "version_major": 2,
       "version_minor": 0
      },
      "text/plain": [
       "FloatProgress(value=0.0, layout=Layout(width='auto'), style=ProgressStyle(bar_color='black'))"
      ]
     },
     "metadata": {},
     "output_type": "display_data"
    }
   ],
   "source": [
    "sort_query = \"\"\"COPY (SELECT * FROM lineitem ORDER BY l_shipdate) TO 'output.csv' (HEADER, DELIMITER ',')\"\"\"\n",
    "duckdb.query(sort_query)\n"
   ]
  },
  {
   "cell_type": "markdown",
   "metadata": {},
   "source": [
    "### PERFORMING Q6 using orc files"
   ]
  },
  {
   "cell_type": "code",
   "execution_count": 6,
   "metadata": {},
   "outputs": [],
   "source": [
    "import pandas as pd\n",
    "import duckdb\n",
    "import math\n",
    "result4 = pd.read_orc(\"/media/suman/Transcend/UTN/UTN_HDD/AIR/semester2/cloud_computing/week2/orc/warehouse/default/lineitem/data/00003-16-2b00eabe-fd67-4e9a-b5b3-0be7eaf88f09-0-00001.orc\")  \n",
    "result5 = pd.read_orc(\"/media/suman/Transcend/UTN/UTN_HDD/AIR/semester2/cloud_computing/week2/orc/warehouse/default/lineitem/data/00004-17-2b00eabe-fd67-4e9a-b5b3-0be7eaf88f09-0-00001.orc\")  \n",
    "result6 = pd.read_orc(\"/media/suman/Transcend/UTN/UTN_HDD/AIR/semester2/cloud_computing/week2/orc/warehouse/default/lineitem/data/00005-18-2b00eabe-fd67-4e9a-b5b3-0be7eaf88f09-0-00001.orc\")  "
   ]
  },
  {
   "cell_type": "code",
   "execution_count": 11,
   "metadata": {},
   "outputs": [],
   "source": [
    "query6 = \"\"\"\n",
    "        select\n",
    "          sum(l_extendedprice * l_discount) as revenue\n",
    "        from\n",
    "          lineitem\n",
    "        where\n",
    "          l_shipdate >= date '1994-01-01'\n",
    "          and l_shipdate < date '1994-01-01' + interval '1' year\n",
    "          and l_discount between 0.06 - 0.01 and 0.06 + 0.01\n",
    "          and l_quantity < 24\n",
    "        \"\"\"\n",
    "lineitem_table = \"\"\"\n",
    "CREATE TABLE IF NOT EXISTS lineitem AS SELECT * FROM result6\n",
    "\"\"\"\n",
    "duckdb.query(lineitem_table)\n",
    "result = duckdb.query(query6)"
   ]
  },
  {
   "cell_type": "code",
   "execution_count": 8,
   "metadata": {},
   "outputs": [
    {
     "data": {
      "text/plain": [
       "True"
      ]
     },
     "execution_count": 8,
     "metadata": {},
     "output_type": "execute_result"
    }
   ],
   "source": [
    "math.isclose(68462078.48259994 + 46402803.57049994 + 8276196.175199989, 123141078.22829895)"
   ]
  },
  {
   "cell_type": "code",
   "execution_count": 24,
   "metadata": {},
   "outputs": [
    {
     "data": {
      "text/plain": [
       "8276196.175199989"
      ]
     },
     "execution_count": 24,
     "metadata": {},
     "output_type": "execute_result"
    }
   ],
   "source": [
    "result.fetchone()[0]"
   ]
  },
  {
   "cell_type": "code",
   "execution_count": null,
   "metadata": {},
   "outputs": [],
   "source": []
  }
 ],
 "metadata": {
  "kernelspec": {
   "display_name": "Python 3 (ipykernel)",
   "language": "python",
   "name": "python3"
  },
  "language_info": {
   "codemirror_mode": {
    "name": "ipython",
    "version": 3
   },
   "file_extension": ".py",
   "mimetype": "text/x-python",
   "name": "python",
   "nbconvert_exporter": "python",
   "pygments_lexer": "ipython3",
   "version": "3.9.12"
  }
 },
 "nbformat": 4,
 "nbformat_minor": 2
}
